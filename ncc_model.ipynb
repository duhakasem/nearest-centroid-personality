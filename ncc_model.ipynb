{
 "cells": [
  {
   "cell_type": "markdown",
   "metadata": {},
   "source": [
    "# Nearest Centroid Classifier on Personality Dataset\n",
    "This notebook implements a Nearest Centroid Classifier (NCC) using NumPy to classify personality traits (Introvert vs. Extrovert)"
   ]
  },
  {
   "cell_type": "code",
   "execution_count": null,
   "metadata": {},
   "outputs": [],
   "source": [
    "import pandas as pd\n",
    "import numpy as np\n",
    "from sklearn.model_selection import train_test_split"
   ]
  },
  {
   "cell_type": "markdown",
   "metadata": {},
   "source": [
    "## Data Loading, Preprocessing, and Feature Selection"
   ]
  },
  {
   "cell_type": "code",
   "execution_count": null,
   "metadata": {},
   "outputs": [],
   "source": [
    "df = pd.read_csv(\"./data/personality_dataset.csv\")\n",
    "df = df.replace({\n",
    "    \"Stage_fear\": {\"Yes\": 1, \"No\": 0},\n",
    "    \"Drained_after_socializing\": {\"Yes\": 1, \"No\": 0},\n",
    "    \"Personality\": {\"Introvert\": 0, \"Extrovert\": 1}\n",
    "})\n",
    "\n",
    "selected_columns = [\n",
    "    \"Time_spent_Alone\", \"Stage_fear\", \"Social_event_attendance\", \"Going_outside\", \n",
    "    \"Drained_after_socializing\", \"Friends_circle_size\", \"Post_frequency\"\n",
    "]\n",
    "df[selected_columns] = df[selected_columns].fillna(df[selected_columns].mean())\n",
    "\n",
    "X = df[selected_columns].values\n",
    "y = df[\"Personality\"].values"
   ]
  },
  {
   "cell_type": "markdown",
   "metadata": {},
   "source": [
    "## Nearest Centroid Classifier Implementation"
   ]
  },
  {
   "cell_type": "code",
   "execution_count": null,
   "metadata": {},
   "outputs": [],
   "source": [
    "def fit_ncc(X,y):\n",
    "    cids = np.unique(y)\n",
    "    mu = np.zeros((len(cids), X.shape[1]))\n",
    "    for class_idx, class_label in enumerate(cids):\n",
    "        mu[class_idx] = np.mean(X[y == class_label], axis=0)\n",
    "    return cids, mu\n",
    "\n",
    "def predict_ncc(X, mu):\n",
    "    NCdist = np.zeros((X.shape[0], mu.shape[0]))\n",
    "    for i in range(mu.shape[0]):\n",
    "        NCdist[:, i] = np.linalg.norm(X - mu[i], axis=1)\n",
    "    return np.argmin(NCdist, axis=1)"
   ]
  },
  {
   "cell_type": "markdown",
   "metadata": {},
   "source": [
    "## Evaluation on Full Dataset"
   ]
  },
  {
   "cell_type": "code",
   "execution_count": 26,
   "metadata": {},
   "outputs": [
    {
     "name": "stdout",
     "output_type": "stream",
     "text": [
      "Accuracy on full dataset: 0.9344827586206896\n"
     ]
    }
   ],
   "source": [
    "cids, mu = fit_ncc(X, y)\n",
    "y_pred = predict_ncc(X, mu)\n",
    "accuracy_full = np.mean(y_pred == y)\n",
    "print(\"Accuracy on full dataset:\", accuracy_full)"
   ]
  },
  {
   "cell_type": "markdown",
   "metadata": {},
   "source": [
    "## Train-Test Split Evaluation"
   ]
  },
  {
   "cell_type": "code",
   "execution_count": 25,
   "metadata": {},
   "outputs": [
    {
     "name": "stdout",
     "output_type": "stream",
     "text": [
      "Accuracy on test set: 0.9293103448275862\n"
     ]
    }
   ],
   "source": [
    "X_train, X_test, y_train, y_test = train_test_split(X, y, test_size=0.2, random_state=42)\n",
    "cids, mu = fit_ncc(X_train, y_train)\n",
    "y_pred = predict_ncc(X_test, mu)\n",
    "accuracy_test = np.mean(y_pred == y_test)\n",
    "print(\"Accuracy on test set:\", accuracy_test)"
   ]
  }
 ],
 "metadata": {
  "kernelspec": {
   "display_name": "base",
   "language": "python",
   "name": "python3"
  },
  "language_info": {
   "codemirror_mode": {
    "name": "ipython",
    "version": 3
   },
   "file_extension": ".py",
   "mimetype": "text/x-python",
   "name": "python",
   "nbconvert_exporter": "python",
   "pygments_lexer": "ipython3",
   "version": "3.12.7"
  }
 },
 "nbformat": 4,
 "nbformat_minor": 2
}
